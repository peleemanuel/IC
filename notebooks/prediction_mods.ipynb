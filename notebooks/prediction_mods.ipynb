{
 "cells": [
  {
   "cell_type": "markdown",
   "metadata": {},
   "source": [
    "## NN time\n",
    "\n",
    "### For this dataset we are going with a DNN\n"
   ]
  },
  {
   "cell_type": "code",
   "execution_count": 105,
   "metadata": {},
   "outputs": [
    {
     "name": "stdout",
     "output_type": "stream",
     "text": [
      "False\n",
      "[]\n"
     ]
    }
   ],
   "source": [
    "import torch\n",
    "print(torch.cuda.is_available())\n",
    "\n",
    "devices = [d for d in range(torch.cuda.device_count())]\n",
    "device_names = [torch.cuda.get_device_name(d) for d in devices]\n",
    "print(device_names)\n",
    "\n"
   ]
  },
  {
   "cell_type": "markdown",
   "metadata": {},
   "source": [
    "### Dataset prep"
   ]
  },
  {
   "cell_type": "code",
   "execution_count": 106,
   "metadata": {},
   "outputs": [
    {
     "name": "stdout",
     "output_type": "stream",
     "text": [
      "(21126, 13)\n"
     ]
    }
   ],
   "source": [
    "import torch\n",
    "from torch.utils.data import DataLoader, TensorDataset\n",
    "from sklearn.model_selection import train_test_split\n",
    "from sklearn.preprocessing import StandardScaler\n",
    "import pandas as pd\n",
    "\n",
    "data = pd.read_csv('../data/final_dataset_1.csv')\n",
    "\n",
    "X = data.drop(['price', 'density', 'yr_renovated',\n",
    "              'sqm_basement', 'avg_degree','condition'], axis=1).values\n",
    "# X = X.drop('density', axis=1).values\n",
    "# X = X.drop('yr_renovated', axis=1).values\n",
    "# X = X.drop('sqm_basement', axis=1).values\n",
    "print(X.shape)\n",
    "y = data['price'].values\n",
    "\n",
    "X_train, X_test, y_train, y_test = train_test_split(X, y, test_size=0.2, random_state=1)\n",
    "\n",
    "scaler = StandardScaler()\n",
    "X_train = scaler.fit_transform(X_train)\n",
    "X_test = scaler.transform(X_test)\n",
    "\n",
    "X_train = torch.tensor(X_train, dtype=torch.float32)\n",
    "X_test = torch.tensor(X_test, dtype=torch.float32)\n",
    "y_train = torch.tensor(y_train, dtype=torch.float32).view(-1, 1)\n",
    "y_test = torch.tensor(y_test, dtype=torch.float32).view(-1, 1)\n",
    "\n",
    "train_dataset = TensorDataset(X_train, y_train)\n",
    "train_loader = DataLoader(dataset=train_dataset, batch_size=64, shuffle=True)"
   ]
  },
  {
   "cell_type": "markdown",
   "metadata": {},
   "source": [
    "Defining the model and its losing and optimizing functions"
   ]
  },
  {
   "cell_type": "code",
   "execution_count": 107,
   "metadata": {},
   "outputs": [],
   "source": [
    "import torch\n",
    "import torch.nn as nn\n",
    "import torch.optim as optim\n",
    "\n",
    "# Definirea modelului DNN\n",
    "\n",
    "\n",
    "class DNN(nn.Module):\n",
    "    def __init__(self):\n",
    "        super(DNN, self).__init__()\n",
    "        # Inițializarea layerelor\n",
    "        # Primul layer primeste 13 caracteristici (după PCA)\n",
    "        self.fc1 = nn.Linear(13, 128)\n",
    "        self.fc2 = nn.Linear(128, 128)  # Al doilea layer\n",
    "        self.fc3 = nn.Linear(128, 128)  # Al treilea layer\n",
    "        self.fc4 = nn.Linear(128, 128)  # Al patrulea layer\n",
    "        # Layerul de output cu o singură valoare (predictie)\n",
    "        self.output = nn.Linear(128, 1)\n",
    "\n",
    "    def forward(self, x):\n",
    "        # Aplică ReLU pe fiecare layer, exceptând layerul de output\n",
    "        x = torch.relu(self.fc1(x))\n",
    "        x = torch.relu(self.fc2(x))\n",
    "        x = torch.relu(self.fc3(x))\n",
    "        x = torch.relu(self.fc4(x))\n",
    "        x = self.output(x)  # Nicio funcție de activare (liniară)\n",
    "        return x\n",
    "    \n",
    "\n",
    "model = DNN()\n",
    "criterion = nn.MSELoss()\n",
    "optimizer = torch.optim.Adam(model.parameters(), lr=0.001)"
   ]
  },
  {
   "cell_type": "code",
   "execution_count": 89,
   "metadata": {},
   "outputs": [],
   "source": [
    "import torch\n",
    "import torch.nn as nn\n",
    "import torch.optim as optim\n",
    "\n",
    "\n",
    "class DNN(nn.Module):\n",
    "    def __init__(self):\n",
    "        super(DNN, self).__init__()\n",
    "        # Inițializarea layerelor\n",
    "        self.fc1 = nn.Linear(13, 30)\n",
    "        # Batch normalization pentru primul layer\n",
    "        self.bn1 = nn.BatchNorm1d(30)\n",
    "        self.fc2 = nn.Linear(30, 60)\n",
    "        # Batch normalization pentru al doilea layer\n",
    "        self.bn2 = nn.BatchNorm1d(60)\n",
    "        self.fc3 = nn.Linear(60, 60)\n",
    "        # Batch normalization pentru al treilea layer\n",
    "        self.bn3 = nn.BatchNorm1d(60)\n",
    "        self.fc4 = nn.Linear(60, 30)\n",
    "        # Batch normalization pentru al patrulea layer\n",
    "        self.bn4 = nn.BatchNorm1d(30)\n",
    "        self.output = nn.Linear(30, 1)\n",
    "        self.dropout = nn.Dropout(p=0.7)  # Dropout\n",
    "        # Funcție de activare LeakyReLU\n",
    "        self.activation = nn.LeakyReLU(negative_slope=0.01)\n",
    "\n",
    "    def forward(self, x):\n",
    "        x = self.bn1(self.fc1(x))\n",
    "        x = self.dropout(self.activation(x))\n",
    "        x = self.bn2(self.fc2(x))\n",
    "        x = self.dropout(self.activation(x))\n",
    "        x = self.bn3(self.fc3(x))\n",
    "        x = self.dropout(self.activation(x))\n",
    "        x = self.bn4(self.fc4(x))\n",
    "        x = self.dropout(self.activation(x))\n",
    "        x = self.output(x)  # Layer de output fără funcție de activare (liniar)\n",
    "        return x\n",
    "\n",
    "\n",
    "# Inițializarea modelului, funcției de pierdere și optimizatorului\n",
    "model = DNN()\n",
    "criterion = nn.MSELoss()\n",
    "optimizer = torch.optim.Adam(model.parameters(), lr=0.001)"
   ]
  },
  {
   "cell_type": "markdown",
   "metadata": {},
   "source": [
    "Train"
   ]
  },
  {
   "cell_type": "code",
   "execution_count": 108,
   "metadata": {},
   "outputs": [
    {
     "name": "stdout",
     "output_type": "stream",
     "text": [
      "Epoch [1/300], Loss: 35247640576.0000\n",
      "Epoch [2/300], Loss: 5621941248.0000\n",
      "Epoch [3/300], Loss: 7560015360.0000\n",
      "Epoch [4/300], Loss: 14389262336.0000\n",
      "Epoch [5/300], Loss: 66167029760.0000\n",
      "Epoch [6/300], Loss: 8304008192.0000\n",
      "Epoch [7/300], Loss: 70951264256.0000\n",
      "Epoch [8/300], Loss: 52593713152.0000\n",
      "Epoch [9/300], Loss: 73551478784.0000\n",
      "Epoch [10/300], Loss: 7305989632.0000\n",
      "Epoch [11/300], Loss: 19119640576.0000\n",
      "Epoch [12/300], Loss: 1236159232.0000\n",
      "Epoch [13/300], Loss: 26607988736.0000\n",
      "Epoch [14/300], Loss: 6106862080.0000\n",
      "Epoch [15/300], Loss: 22755917824.0000\n",
      "Epoch [16/300], Loss: 89727746048.0000\n",
      "Epoch [17/300], Loss: 5754351104.0000\n",
      "Epoch [18/300], Loss: 9246089216.0000\n",
      "Epoch [19/300], Loss: 8400501248.0000\n",
      "Epoch [20/300], Loss: 8267377664.0000\n",
      "Epoch [21/300], Loss: 19590746112.0000\n",
      "Epoch [22/300], Loss: 19770843136.0000\n",
      "Epoch [23/300], Loss: 16905680896.0000\n",
      "Epoch [24/300], Loss: 9940597760.0000\n",
      "Epoch [25/300], Loss: 6131036160.0000\n",
      "Epoch [26/300], Loss: 38184361984.0000\n",
      "Epoch [27/300], Loss: 18905432064.0000\n",
      "Epoch [28/300], Loss: 10506114048.0000\n",
      "Epoch [29/300], Loss: 12684398592.0000\n",
      "Epoch [30/300], Loss: 48579960832.0000\n",
      "Epoch [31/300], Loss: 1979236352.0000\n",
      "Epoch [32/300], Loss: 15934418944.0000\n",
      "Epoch [33/300], Loss: 32625938432.0000\n",
      "Epoch [34/300], Loss: 28362764288.0000\n",
      "Epoch [35/300], Loss: 9287645184.0000\n",
      "Epoch [36/300], Loss: 11834110976.0000\n",
      "Epoch [37/300], Loss: 4336998400.0000\n",
      "Epoch [38/300], Loss: 5141956608.0000\n",
      "Epoch [39/300], Loss: 2635438592.0000\n",
      "Epoch [40/300], Loss: 20162625536.0000\n",
      "Epoch [41/300], Loss: 11266020352.0000\n",
      "Epoch [42/300], Loss: 868927360.0000\n",
      "Epoch [43/300], Loss: 1613701760.0000\n",
      "Epoch [44/300], Loss: 15974739968.0000\n",
      "Epoch [45/300], Loss: 26363441152.0000\n",
      "Epoch [46/300], Loss: 56409808896.0000\n",
      "Epoch [47/300], Loss: 150125543424.0000\n",
      "Epoch [48/300], Loss: 27923265536.0000\n",
      "Epoch [49/300], Loss: 7598546944.0000\n",
      "Epoch [50/300], Loss: 19784200192.0000\n",
      "Epoch [51/300], Loss: 4497912320.0000\n",
      "Epoch [52/300], Loss: 15284691968.0000\n",
      "Epoch [53/300], Loss: 6063854080.0000\n",
      "Epoch [54/300], Loss: 72522268672.0000\n",
      "Epoch [55/300], Loss: 6048088064.0000\n",
      "Epoch [56/300], Loss: 12095574016.0000\n",
      "Epoch [57/300], Loss: 58299052032.0000\n",
      "Epoch [58/300], Loss: 3062326272.0000\n",
      "Epoch [59/300], Loss: 7960804864.0000\n",
      "Epoch [60/300], Loss: 9841801216.0000\n",
      "Epoch [61/300], Loss: 7825972224.0000\n",
      "Epoch [62/300], Loss: 12174624.0000\n",
      "Epoch [63/300], Loss: 8066942464.0000\n",
      "Epoch [64/300], Loss: 43012423680.0000\n",
      "Epoch [65/300], Loss: 6062380544.0000\n",
      "Epoch [66/300], Loss: 70540050432.0000\n",
      "Epoch [67/300], Loss: 10700784640.0000\n",
      "Epoch [68/300], Loss: 22986821632.0000\n",
      "Epoch [69/300], Loss: 77243146240.0000\n",
      "Epoch [70/300], Loss: 4672960512.0000\n",
      "Epoch [71/300], Loss: 7006807040.0000\n",
      "Epoch [72/300], Loss: 6296473600.0000\n",
      "Epoch [73/300], Loss: 24514310144.0000\n",
      "Epoch [74/300], Loss: 5534494720.0000\n",
      "Epoch [75/300], Loss: 34096648192.0000\n",
      "Epoch [76/300], Loss: 6957913088.0000\n",
      "Epoch [77/300], Loss: 17111951360.0000\n",
      "Epoch [78/300], Loss: 171475140608.0000\n",
      "Epoch [79/300], Loss: 11937702912.0000\n",
      "Epoch [80/300], Loss: 4866415104.0000\n",
      "Epoch [81/300], Loss: 5086706176.0000\n",
      "Epoch [82/300], Loss: 40860680192.0000\n",
      "Epoch [83/300], Loss: 20630300672.0000\n",
      "Epoch [84/300], Loss: 8100640256.0000\n",
      "Epoch [85/300], Loss: 206419640320.0000\n",
      "Epoch [86/300], Loss: 9751676928.0000\n",
      "Epoch [87/300], Loss: 45998747648.0000\n",
      "Epoch [88/300], Loss: 11978425344.0000\n",
      "Epoch [89/300], Loss: 8555863040.0000\n",
      "Epoch [90/300], Loss: 3822337280.0000\n",
      "Epoch [91/300], Loss: 17052528640.0000\n",
      "Epoch [92/300], Loss: 29218351104.0000\n",
      "Epoch [93/300], Loss: 7879733248.0000\n",
      "Epoch [94/300], Loss: 106047668224.0000\n",
      "Epoch [95/300], Loss: 10731366400.0000\n",
      "Epoch [96/300], Loss: 26859294720.0000\n",
      "Epoch [97/300], Loss: 24924231680.0000\n",
      "Epoch [98/300], Loss: 10666300416.0000\n",
      "Epoch [99/300], Loss: 15421030400.0000\n",
      "Epoch [100/300], Loss: 7299127296.0000\n",
      "Epoch [101/300], Loss: 4824530432.0000\n",
      "Epoch [102/300], Loss: 15284271104.0000\n",
      "Epoch [103/300], Loss: 10508739584.0000\n",
      "Epoch [104/300], Loss: 1029605120.0000\n",
      "Epoch [105/300], Loss: 24880072704.0000\n",
      "Epoch [106/300], Loss: 16505969664.0000\n",
      "Epoch [107/300], Loss: 6461145088.0000\n",
      "Epoch [108/300], Loss: 2589199360.0000\n",
      "Epoch [109/300], Loss: 71917772800.0000\n",
      "Epoch [110/300], Loss: 8294426112.0000\n",
      "Epoch [111/300], Loss: 2227046144.0000\n",
      "Epoch [112/300], Loss: 16593661952.0000\n",
      "Epoch [113/300], Loss: 7020917760.0000\n",
      "Epoch [114/300], Loss: 10714292224.0000\n",
      "Epoch [115/300], Loss: 25709389824.0000\n",
      "Epoch [116/300], Loss: 3000762112.0000\n",
      "Epoch [117/300], Loss: 13928560640.0000\n",
      "Epoch [118/300], Loss: 15395182592.0000\n",
      "Epoch [119/300], Loss: 32925904896.0000\n",
      "Epoch [120/300], Loss: 32105132032.0000\n",
      "Epoch [121/300], Loss: 24934848512.0000\n",
      "Epoch [122/300], Loss: 4600382976.0000\n",
      "Epoch [123/300], Loss: 6717322752.0000\n",
      "Epoch [124/300], Loss: 37645668352.0000\n",
      "Epoch [125/300], Loss: 7900932096.0000\n",
      "Epoch [126/300], Loss: 14391171072.0000\n",
      "Epoch [127/300], Loss: 7784863744.0000\n",
      "Epoch [128/300], Loss: 2906615296.0000\n",
      "Epoch [129/300], Loss: 21419319296.0000\n",
      "Epoch [130/300], Loss: 2839662592.0000\n",
      "Epoch [131/300], Loss: 38776352768.0000\n",
      "Epoch [132/300], Loss: 21522116608.0000\n",
      "Epoch [133/300], Loss: 26724915200.0000\n",
      "Epoch [134/300], Loss: 10388441088.0000\n",
      "Epoch [135/300], Loss: 24264081408.0000\n",
      "Epoch [136/300], Loss: 13343854592.0000\n",
      "Epoch [137/300], Loss: 3373320192.0000\n",
      "Epoch [138/300], Loss: 42202804224.0000\n",
      "Epoch [139/300], Loss: 17181173760.0000\n",
      "Epoch [140/300], Loss: 4501954560.0000\n",
      "Epoch [141/300], Loss: 136023195648.0000\n",
      "Epoch [142/300], Loss: 32770584576.0000\n",
      "Epoch [143/300], Loss: 20135659520.0000\n",
      "Epoch [144/300], Loss: 5169518592.0000\n",
      "Epoch [145/300], Loss: 2049475712.0000\n",
      "Epoch [146/300], Loss: 22907078656.0000\n",
      "Epoch [147/300], Loss: 8874466304.0000\n",
      "Epoch [148/300], Loss: 140000559104.0000\n",
      "Epoch [149/300], Loss: 7594299392.0000\n",
      "Epoch [150/300], Loss: 14257795072.0000\n",
      "Epoch [151/300], Loss: 4855951872.0000\n",
      "Epoch [152/300], Loss: 6857931776.0000\n",
      "Epoch [153/300], Loss: 4247187456.0000\n",
      "Epoch [154/300], Loss: 13136770048.0000\n",
      "Epoch [155/300], Loss: 189856235520.0000\n",
      "Epoch [156/300], Loss: 7717891584.0000\n",
      "Epoch [157/300], Loss: 14164090880.0000\n",
      "Epoch [158/300], Loss: 21463404544.0000\n",
      "Epoch [159/300], Loss: 34941927424.0000\n",
      "Epoch [160/300], Loss: 18341609472.0000\n",
      "Epoch [161/300], Loss: 61669949440.0000\n",
      "Epoch [162/300], Loss: 52577464320.0000\n",
      "Epoch [163/300], Loss: 108000264192.0000\n",
      "Epoch [164/300], Loss: 3077201408.0000\n",
      "Epoch [165/300], Loss: 7828099072.0000\n",
      "Epoch [166/300], Loss: 23514806272.0000\n",
      "Epoch [167/300], Loss: 12406272000.0000\n",
      "Epoch [168/300], Loss: 10207025152.0000\n",
      "Epoch [169/300], Loss: 13616065536.0000\n",
      "Epoch [170/300], Loss: 4363936768.0000\n",
      "Epoch [171/300], Loss: 6302957056.0000\n",
      "Epoch [172/300], Loss: 3521311232.0000\n",
      "Epoch [173/300], Loss: 20891006976.0000\n",
      "Epoch [174/300], Loss: 10240287744.0000\n",
      "Epoch [175/300], Loss: 15551598592.0000\n",
      "Epoch [176/300], Loss: 42095370240.0000\n",
      "Epoch [177/300], Loss: 16999569408.0000\n",
      "Epoch [178/300], Loss: 1166945152.0000\n",
      "Epoch [179/300], Loss: 1301081600.0000\n",
      "Epoch [180/300], Loss: 613967724544.0000\n",
      "Epoch [181/300], Loss: 4270878464.0000\n",
      "Epoch [182/300], Loss: 21813219328.0000\n",
      "Epoch [183/300], Loss: 5344378880.0000\n",
      "Epoch [184/300], Loss: 29809139712.0000\n",
      "Epoch [185/300], Loss: 8204336128.0000\n",
      "Epoch [186/300], Loss: 61053927424.0000\n",
      "Epoch [187/300], Loss: 57860345856.0000\n",
      "Epoch [188/300], Loss: 5211099136.0000\n",
      "Epoch [189/300], Loss: 10096470016.0000\n",
      "Epoch [190/300], Loss: 37485203456.0000\n",
      "Epoch [191/300], Loss: 37855817728.0000\n",
      "Epoch [192/300], Loss: 47748472832.0000\n",
      "Epoch [193/300], Loss: 3127270656.0000\n",
      "Epoch [194/300], Loss: 2530537728.0000\n",
      "Epoch [195/300], Loss: 241361059840.0000\n",
      "Epoch [196/300], Loss: 2067468288.0000\n",
      "Epoch [197/300], Loss: 25246140416.0000\n",
      "Epoch [198/300], Loss: 33938491392.0000\n",
      "Epoch [199/300], Loss: 19833413632.0000\n",
      "Epoch [200/300], Loss: 12950837248.0000\n",
      "Epoch [201/300], Loss: 5353961472.0000\n",
      "Epoch [202/300], Loss: 17652875264.0000\n",
      "Epoch [203/300], Loss: 7101745152.0000\n",
      "Epoch [204/300], Loss: 3864178688.0000\n",
      "Epoch [205/300], Loss: 9804482560.0000\n",
      "Epoch [206/300], Loss: 13760978944.0000\n",
      "Epoch [207/300], Loss: 6959998464.0000\n",
      "Epoch [208/300], Loss: 1474083840.0000\n",
      "Epoch [209/300], Loss: 9128930304.0000\n",
      "Epoch [210/300], Loss: 40083423232.0000\n",
      "Epoch [211/300], Loss: 10381317120.0000\n",
      "Epoch [212/300], Loss: 15431798784.0000\n",
      "Epoch [213/300], Loss: 1847365760.0000\n",
      "Epoch [214/300], Loss: 3068446208.0000\n",
      "Epoch [215/300], Loss: 3448363520.0000\n",
      "Epoch [216/300], Loss: 4634075648.0000\n",
      "Epoch [217/300], Loss: 7729695744.0000\n",
      "Epoch [218/300], Loss: 95104417792.0000\n",
      "Epoch [219/300], Loss: 21640171520.0000\n",
      "Epoch [220/300], Loss: 3949763840.0000\n",
      "Epoch [221/300], Loss: 15771809792.0000\n",
      "Epoch [222/300], Loss: 6748951040.0000\n",
      "Epoch [223/300], Loss: 6629491200.0000\n",
      "Epoch [224/300], Loss: 12657367040.0000\n",
      "Epoch [225/300], Loss: 36827463680.0000\n",
      "Epoch [226/300], Loss: 16547573760.0000\n",
      "Epoch [227/300], Loss: 15467848704.0000\n",
      "Epoch [228/300], Loss: 31591221248.0000\n",
      "Epoch [229/300], Loss: 35677974528.0000\n",
      "Epoch [230/300], Loss: 14111218688.0000\n",
      "Epoch [231/300], Loss: 23329024000.0000\n",
      "Epoch [232/300], Loss: 115654598656.0000\n",
      "Epoch [233/300], Loss: 8215326720.0000\n",
      "Epoch [234/300], Loss: 8308383232.0000\n",
      "Epoch [235/300], Loss: 16095344640.0000\n",
      "Epoch [236/300], Loss: 12144552960.0000\n",
      "Epoch [237/300], Loss: 41203679232.0000\n",
      "Epoch [238/300], Loss: 28517371904.0000\n",
      "Epoch [239/300], Loss: 20432097280.0000\n",
      "Epoch [240/300], Loss: 19307966464.0000\n",
      "Epoch [241/300], Loss: 7223685120.0000\n",
      "Epoch [242/300], Loss: 29426171904.0000\n",
      "Epoch [243/300], Loss: 18392864768.0000\n",
      "Epoch [244/300], Loss: 7226972672.0000\n",
      "Epoch [245/300], Loss: 10182351872.0000\n",
      "Epoch [246/300], Loss: 10175943680.0000\n",
      "Epoch [247/300], Loss: 9776145408.0000\n",
      "Epoch [248/300], Loss: 5743787008.0000\n",
      "Epoch [249/300], Loss: 29675571200.0000\n",
      "Epoch [250/300], Loss: 21888784384.0000\n",
      "Epoch [251/300], Loss: 5363805696.0000\n",
      "Epoch [252/300], Loss: 15133057024.0000\n",
      "Epoch [253/300], Loss: 6531055104.0000\n",
      "Epoch [254/300], Loss: 2970864384.0000\n",
      "Epoch [255/300], Loss: 59149545472.0000\n",
      "Epoch [256/300], Loss: 2155584768.0000\n",
      "Epoch [257/300], Loss: 9513465856.0000\n",
      "Epoch [258/300], Loss: 12730718208.0000\n",
      "Epoch [259/300], Loss: 4852799488.0000\n",
      "Epoch [260/300], Loss: 4379352576.0000\n",
      "Epoch [261/300], Loss: 11604021248.0000\n",
      "Epoch [262/300], Loss: 28050923520.0000\n",
      "Epoch [263/300], Loss: 6951921152.0000\n",
      "Epoch [264/300], Loss: 45226311680.0000\n",
      "Epoch [265/300], Loss: 14688463872.0000\n",
      "Epoch [266/300], Loss: 16233133056.0000\n",
      "Epoch [267/300], Loss: 45738270720.0000\n",
      "Epoch [268/300], Loss: 4443449856.0000\n",
      "Epoch [269/300], Loss: 32920580096.0000\n",
      "Epoch [270/300], Loss: 6642296320.0000\n",
      "Epoch [271/300], Loss: 3347312896.0000\n",
      "Epoch [272/300], Loss: 38515408896.0000\n",
      "Epoch [273/300], Loss: 12466407424.0000\n",
      "Epoch [274/300], Loss: 8642725888.0000\n",
      "Epoch [275/300], Loss: 14686727168.0000\n",
      "Epoch [276/300], Loss: 4042548992.0000\n",
      "Epoch [277/300], Loss: 203289542656.0000\n",
      "Epoch [278/300], Loss: 2487966720.0000\n",
      "Epoch [279/300], Loss: 40725446656.0000\n",
      "Epoch [280/300], Loss: 10241903616.0000\n",
      "Epoch [281/300], Loss: 93527130112.0000\n",
      "Epoch [282/300], Loss: 9020587008.0000\n",
      "Epoch [283/300], Loss: 15313102848.0000\n",
      "Epoch [284/300], Loss: 18454140928.0000\n",
      "Epoch [285/300], Loss: 11995242496.0000\n",
      "Epoch [286/300], Loss: 6255745536.0000\n",
      "Epoch [287/300], Loss: 52727349248.0000\n",
      "Epoch [288/300], Loss: 2769799680.0000\n",
      "Epoch [289/300], Loss: 16087942144.0000\n",
      "Epoch [290/300], Loss: 16890762240.0000\n",
      "Epoch [291/300], Loss: 301288456192.0000\n",
      "Epoch [292/300], Loss: 7625483776.0000\n",
      "Epoch [293/300], Loss: 22434498560.0000\n",
      "Epoch [294/300], Loss: 501970944.0000\n",
      "Epoch [295/300], Loss: 25317408768.0000\n",
      "Epoch [296/300], Loss: 15940962304.0000\n",
      "Epoch [297/300], Loss: 32539815936.0000\n",
      "Epoch [298/300], Loss: 2267015424.0000\n",
      "Epoch [299/300], Loss: 13766891520.0000\n",
      "Epoch [300/300], Loss: 48554659840.0000\n"
     ]
    }
   ],
   "source": [
    "num_epochs = 300\n",
    "model.train()  \n",
    "for epoch in range(num_epochs):\n",
    "    for inputs, targets in train_loader:\n",
    "        inputs, targets = inputs, targets\n",
    "\n",
    "        outputs = model(inputs)\n",
    "        loss = criterion(outputs, targets)\n",
    "\n",
    "        optimizer.zero_grad()\n",
    "        loss.backward()\n",
    "        optimizer.step()\n",
    "    \n",
    "    print(f'Epoch [{epoch+1}/{num_epochs}], Loss: {loss.item():.4f}')"
   ]
  },
  {
   "cell_type": "markdown",
   "metadata": {},
   "source": [
    "Test"
   ]
  },
  {
   "cell_type": "code",
   "execution_count": 109,
   "metadata": {},
   "outputs": [
    {
     "name": "stdout",
     "output_type": "stream",
     "text": [
      "Test MSE Loss: 31196692480.0000\n",
      "Test RMSE Loss: 176625.8594\n",
      "Test MAE Loss: 111496.5156\n",
      "R-squared Score: 0.7218\n"
     ]
    }
   ],
   "source": [
    "from sklearn.metrics import r2_score\n",
    "# Set the model to evaluation mode\n",
    "model.eval()\n",
    "\n",
    "# Disable gradient calculation for evaluation\n",
    "with torch.no_grad():\n",
    "    inputs, targets = X_test, y_test\n",
    "    predictions = model(inputs)\n",
    "\n",
    "    # Calculating different metrics\n",
    "    mse_loss = criterion(predictions, targets)  # MSE\n",
    "    rmse_loss = torch.sqrt(mse_loss)            # RMSE\n",
    "    mae_loss = torch.mean(torch.abs(predictions - targets))  # MAE\n",
    "    r2 = r2_score(targets.cpu().numpy(), predictions.cpu().numpy())  # R2 score\n",
    "\n",
    "    # Printing the metrics\n",
    "    print(f'Test MSE Loss: {mse_loss.item():.4f}')\n",
    "    print(f'Test RMSE Loss: {rmse_loss.item():.4f}')\n",
    "    print(f'Test MAE Loss: {mae_loss.item():.4f}')\n",
    "    print(f'R-squared Score: {r2:.4f}')\n"
   ]
  },
  {
   "cell_type": "code",
   "execution_count": 110,
   "metadata": {},
   "outputs": [
    {
     "name": "stdout",
     "output_type": "stream",
     "text": [
      "Train Accuracy (±10%): 778.54%\n",
      "Validation Accuracy (±10%): 771.70%\n"
     ]
    }
   ],
   "source": [
    "def regression_accuracy(model, data_loader, tolerance=0.1):\n",
    "    total_samples = 0\n",
    "    accurate_predictions = 0\n",
    "    model.eval()\n",
    "\n",
    "    with torch.no_grad():\n",
    "        for inputs, targets in data_loader:\n",
    "            inputs, targets = inputs, targets\n",
    "            outputs = model(inputs)\n",
    "            # Calculăm acuratețea în funcție de toleranță\n",
    "            accurate_predictions += ((outputs.squeeze() -\n",
    "                                     targets).abs() / targets <= tolerance).sum().item()\n",
    "            total_samples += targets.size(0)\n",
    "\n",
    "    accuracy = (accurate_predictions / total_samples) * 100\n",
    "    return accuracy\n",
    "\n",
    "\n",
    "# Calculul acurateței\n",
    "train_accuracy = regression_accuracy(model, train_loader, tolerance=0.1)\n",
    "val_accuracy = regression_accuracy(model, train_loader, tolerance=0.1)\n",
    "print(f\"Train Accuracy (±10%): {train_accuracy:.2f}%\")\n",
    "print(f\"Validation Accuracy (±10%): {val_accuracy:.2f}%\")"
   ]
  },
  {
   "cell_type": "code",
   "execution_count": 93,
   "metadata": {},
   "outputs": [
    {
     "name": "stdout",
     "output_type": "stream",
     "text": [
      "Acuratețe: 218.6228111689541%\n"
     ]
    }
   ],
   "source": [
    "def calculate_accuracy(model, data_loader, threshold=0.10, epsilon=1e-8):\n",
    "    model.eval()\n",
    "    correct = 0\n",
    "    total = 0\n",
    "\n",
    "    with torch.no_grad():\n",
    "        for inputs, targets in data_loader:\n",
    "            outputs = model(inputs)\n",
    "            # Adăugarea unei valori mici la numitor pentru a evita divizarea prin zero\n",
    "            error_percentage = torch.abs(\n",
    "                (outputs.flatten() - targets) / (targets + epsilon))\n",
    "            # Verifică care predicții sunt sub pragul de eroare\n",
    "            correct += torch.sum(error_percentage < threshold).item()\n",
    "            total += targets.size(0)\n",
    "\n",
    "    if total == 0:\n",
    "        return 0  # Prevenirea divizării prin zero pentru set de date gol\n",
    "    accuracy = 100 * correct / total\n",
    "    return accuracy\n",
    "\n",
    "\n",
    "accuracy = calculate_accuracy(model, test_loader)\n",
    "print(f'Acuratețe: {accuracy}%')"
   ]
  },
  {
   "cell_type": "code",
   "execution_count": 94,
   "metadata": {},
   "outputs": [
    {
     "name": "stdout",
     "output_type": "stream",
     "text": [
      "Acuratețe: 0.0%\n"
     ]
    }
   ],
   "source": [
    "def calculate_accuracy(model, data_loader, absolute_threshold=0.5):\n",
    "    model.eval()\n",
    "    correct = 0\n",
    "    total = 0\n",
    "\n",
    "    with torch.no_grad():\n",
    "        for inputs, targets in data_loader:\n",
    "            outputs = model(inputs)\n",
    "            absolute_errors = torch.abs(outputs.flatten() - targets)\n",
    "            # Numără câte predicții au o eroare absolută sub un prag dat\n",
    "            correct += torch.sum(absolute_errors < absolute_threshold).item()\n",
    "            total += targets.size(0)\n",
    "\n",
    "    if total == 0:\n",
    "        return 0  # Prevenirea divizării prin zero pentru set de date gol\n",
    "    accuracy = 100 * correct / total\n",
    "    return accuracy\n",
    "\n",
    "\n",
    "test_dataset = TensorDataset(X_test, y_test)\n",
    "test_loader = DataLoader(test_dataset, batch_size=64, shuffle=True)\n",
    "# Setarea unui prag absolut pentru eroare\n",
    "accuracy = calculate_accuracy(model, test_loader, absolute_threshold=0.5)\n",
    "print(f'Acuratețe: {accuracy}%')"
   ]
  },
  {
   "cell_type": "markdown",
   "metadata": {},
   "source": [
    "---"
   ]
  },
  {
   "cell_type": "markdown",
   "metadata": {},
   "source": [
    "# alta incercare nebuna\n",
    "https://nbviewer.org/github/nadinezab/kc-house-prices-prediction/blob/master/kc-house-prices.ipynb#Simple-linear-regression"
   ]
  },
  {
   "cell_type": "code",
   "execution_count": 6,
   "metadata": {},
   "outputs": [],
   "source": [
    "# Import libraries\n",
    "\n",
    "import pandas as pd\n",
    "import numpy as np\n",
    "\n",
    "from itertools import combinations\n",
    "\n",
    "import matplotlib.pyplot as plt\n",
    "import seaborn as sns\n",
    "%matplotlib inline\n",
    "plt.style.use('seaborn-v0_8-notebook')\n",
    "\n",
    "from pathlib import Path\n",
    "import pickle\n",
    "import json\n",
    "\n",
    "\n",
    "from statsmodels.formula.api import ols\n",
    "import statsmodels.api as sm\n",
    "import scipy.stats as stats\n",
    "from sklearn.model_selection import train_test_split\n",
    "from sklearn.feature_selection import RFE\n",
    "from sklearn.linear_model import LinearRegression\n",
    "from sklearn.model_selection import KFold\n",
    "from sklearn.model_selection import cross_val_score\n",
    "from sklearn.preprocessing import PolynomialFeatures\n",
    "from sklearn.metrics import r2_score, mean_squared_error\n",
    "\n",
    "import geopandas as gpd\n",
    "\n",
    "from bokeh.io import output_notebook, show, output_file\n",
    "from bokeh.plotting import figure, ColumnDataSource\n",
    "from bokeh.tile_providers import get_provider, CARTODBPOSITRON\n",
    "from bokeh.palettes import Turbo256, RdYlGn\n",
    "from bokeh.transform import linear_cmap,factor_cmap\n",
    "from bokeh.layouts import row, column\n",
    "from bokeh.models import GeoJSONDataSource, LinearColorMapper, ColorBar, NumeralTickFormatter\n",
    "\n",
    "\n",
    "import folium \n",
    "from folium import plugins\n",
    "from folium.plugins import HeatMap\n",
    "\n",
    "import geopy.geocoders\n",
    "from geopy.extra.rate_limiter import RateLimiter\n",
    "from geopy.geocoders import Bing\n",
    "\n",
    "import reverse_geocoder as rg\n",
    "\n",
    "import warnings\n",
    "warnings.filterwarnings('ignore')"
   ]
  },
  {
   "cell_type": "code",
   "execution_count": 7,
   "metadata": {},
   "outputs": [
    {
     "data": {
      "text/html": [
       "<div>\n",
       "<style scoped>\n",
       "    .dataframe tbody tr th:only-of-type {\n",
       "        vertical-align: middle;\n",
       "    }\n",
       "\n",
       "    .dataframe tbody tr th {\n",
       "        vertical-align: top;\n",
       "    }\n",
       "\n",
       "    .dataframe thead th {\n",
       "        text-align: right;\n",
       "    }\n",
       "</style>\n",
       "<table border=\"1\" class=\"dataframe\">\n",
       "  <thead>\n",
       "    <tr style=\"text-align: right;\">\n",
       "      <th></th>\n",
       "      <th>price</th>\n",
       "      <th>bedrooms</th>\n",
       "      <th>bathrooms</th>\n",
       "      <th>sqm_living</th>\n",
       "      <th>floors</th>\n",
       "      <th>condition</th>\n",
       "      <th>grade</th>\n",
       "      <th>yr_built</th>\n",
       "      <th>yr_renovated</th>\n",
       "      <th>avg_degree</th>\n",
       "      <th>degree_centrality</th>\n",
       "      <th>betweenness_centrality</th>\n",
       "      <th>closeness_centrality</th>\n",
       "      <th>density</th>\n",
       "      <th>sqm_above</th>\n",
       "      <th>sqm_basement</th>\n",
       "      <th>sqm_lot</th>\n",
       "    </tr>\n",
       "  </thead>\n",
       "  <tbody>\n",
       "    <tr>\n",
       "      <th>0</th>\n",
       "      <td>204148.0</td>\n",
       "      <td>3</td>\n",
       "      <td>1.00</td>\n",
       "      <td>109.62554</td>\n",
       "      <td>1.0</td>\n",
       "      <td>3</td>\n",
       "      <td>7</td>\n",
       "      <td>1955</td>\n",
       "      <td>0</td>\n",
       "      <td>5.278075</td>\n",
       "      <td>0.004013</td>\n",
       "      <td>0.020863</td>\n",
       "      <td>0.054032</td>\n",
       "      <td>0.001765</td>\n",
       "      <td>109.62554</td>\n",
       "      <td>0.00000</td>\n",
       "      <td>524.901950</td>\n",
       "    </tr>\n",
       "    <tr>\n",
       "      <th>1</th>\n",
       "      <td>494960.0</td>\n",
       "      <td>3</td>\n",
       "      <td>2.25</td>\n",
       "      <td>238.76071</td>\n",
       "      <td>2.0</td>\n",
       "      <td>3</td>\n",
       "      <td>7</td>\n",
       "      <td>1951</td>\n",
       "      <td>1991</td>\n",
       "      <td>5.369496</td>\n",
       "      <td>0.002819</td>\n",
       "      <td>0.055100</td>\n",
       "      <td>0.039247</td>\n",
       "      <td>0.000946</td>\n",
       "      <td>201.59951</td>\n",
       "      <td>37.16120</td>\n",
       "      <td>672.803526</td>\n",
       "    </tr>\n",
       "    <tr>\n",
       "      <th>2</th>\n",
       "      <td>165600.0</td>\n",
       "      <td>2</td>\n",
       "      <td>1.00</td>\n",
       "      <td>71.53531</td>\n",
       "      <td>1.0</td>\n",
       "      <td>3</td>\n",
       "      <td>6</td>\n",
       "      <td>1933</td>\n",
       "      <td>0</td>\n",
       "      <td>5.141606</td>\n",
       "      <td>0.004383</td>\n",
       "      <td>0.031687</td>\n",
       "      <td>0.052035</td>\n",
       "      <td>0.001878</td>\n",
       "      <td>71.53531</td>\n",
       "      <td>0.00000</td>\n",
       "      <td>929.030000</td>\n",
       "    </tr>\n",
       "    <tr>\n",
       "      <th>3</th>\n",
       "      <td>555680.0</td>\n",
       "      <td>4</td>\n",
       "      <td>3.00</td>\n",
       "      <td>182.08988</td>\n",
       "      <td>1.0</td>\n",
       "      <td>5</td>\n",
       "      <td>7</td>\n",
       "      <td>1965</td>\n",
       "      <td>0</td>\n",
       "      <td>5.992501</td>\n",
       "      <td>0.004287</td>\n",
       "      <td>0.025728</td>\n",
       "      <td>0.041785</td>\n",
       "      <td>0.001606</td>\n",
       "      <td>97.54815</td>\n",
       "      <td>84.54173</td>\n",
       "      <td>464.515000</td>\n",
       "    </tr>\n",
       "    <tr>\n",
       "      <th>4</th>\n",
       "      <td>469200.0</td>\n",
       "      <td>3</td>\n",
       "      <td>2.00</td>\n",
       "      <td>156.07704</td>\n",
       "      <td>1.0</td>\n",
       "      <td>3</td>\n",
       "      <td>8</td>\n",
       "      <td>1987</td>\n",
       "      <td>0</td>\n",
       "      <td>5.440000</td>\n",
       "      <td>0.004804</td>\n",
       "      <td>0.055623</td>\n",
       "      <td>0.056724</td>\n",
       "      <td>0.002178</td>\n",
       "      <td>156.07704</td>\n",
       "      <td>0.00000</td>\n",
       "      <td>750.656240</td>\n",
       "    </tr>\n",
       "  </tbody>\n",
       "</table>\n",
       "</div>"
      ],
      "text/plain": [
       "      price  bedrooms  bathrooms  sqm_living  floors  condition  grade  \\\n",
       "0  204148.0         3       1.00   109.62554     1.0          3      7   \n",
       "1  494960.0         3       2.25   238.76071     2.0          3      7   \n",
       "2  165600.0         2       1.00    71.53531     1.0          3      6   \n",
       "3  555680.0         4       3.00   182.08988     1.0          5      7   \n",
       "4  469200.0         3       2.00   156.07704     1.0          3      8   \n",
       "\n",
       "   yr_built  yr_renovated  avg_degree  degree_centrality  \\\n",
       "0      1955             0    5.278075           0.004013   \n",
       "1      1951          1991    5.369496           0.002819   \n",
       "2      1933             0    5.141606           0.004383   \n",
       "3      1965             0    5.992501           0.004287   \n",
       "4      1987             0    5.440000           0.004804   \n",
       "\n",
       "   betweenness_centrality  closeness_centrality   density  sqm_above  \\\n",
       "0                0.020863              0.054032  0.001765  109.62554   \n",
       "1                0.055100              0.039247  0.000946  201.59951   \n",
       "2                0.031687              0.052035  0.001878   71.53531   \n",
       "3                0.025728              0.041785  0.001606   97.54815   \n",
       "4                0.055623              0.056724  0.002178  156.07704   \n",
       "\n",
       "   sqm_basement     sqm_lot  \n",
       "0       0.00000  524.901950  \n",
       "1      37.16120  672.803526  \n",
       "2       0.00000  929.030000  \n",
       "3      84.54173  464.515000  \n",
       "4       0.00000  750.656240  "
      ]
     },
     "execution_count": 7,
     "metadata": {},
     "output_type": "execute_result"
    }
   ],
   "source": [
    "# Read data\n",
    "kcdata = pd.read_csv('../data/final_dataset_1.csv')\n",
    "kcdata.head()"
   ]
  },
  {
   "cell_type": "code",
   "execution_count": 8,
   "metadata": {},
   "outputs": [
    {
     "data": {
      "text/plain": [
       "21126"
      ]
     },
     "execution_count": 8,
     "metadata": {},
     "output_type": "execute_result"
    }
   ],
   "source": [
    "len(kcdata)"
   ]
  },
  {
   "cell_type": "code",
   "execution_count": 10,
   "metadata": {},
   "outputs": [],
   "source": [
    "# Split features X and target y\n",
    "X = kcdata.drop('price', axis=1)\n",
    "y = kcdata['price']"
   ]
  },
  {
   "cell_type": "code",
   "execution_count": 11,
   "metadata": {},
   "outputs": [],
   "source": [
    "# Train-test split (10% to test set)\n",
    "X_train, X_test, y_train, y_test = train_test_split(\n",
    "    X, y, test_size=0.1, random_state=42)"
   ]
  },
  {
   "cell_type": "code",
   "execution_count": 13,
   "metadata": {},
   "outputs": [
    {
     "name": "stdout",
     "output_type": "stream",
     "text": [
      "19013 2113 19013 2113\n"
     ]
    }
   ],
   "source": [
    "# A brief preview of train-test split\n",
    "print(len(X_train), len(X_test), len(y_train), len(y_test))"
   ]
  },
  {
   "cell_type": "code",
   "execution_count": 14,
   "metadata": {},
   "outputs": [],
   "source": [
    "# Set df as our training set, including features and target\n",
    "df = pd.concat([X_train, y_train], axis=1)"
   ]
  },
  {
   "cell_type": "code",
   "execution_count": 15,
   "metadata": {},
   "outputs": [
    {
     "data": {
      "text/html": [
       "<div>\n",
       "<style scoped>\n",
       "    .dataframe tbody tr th:only-of-type {\n",
       "        vertical-align: middle;\n",
       "    }\n",
       "\n",
       "    .dataframe tbody tr th {\n",
       "        vertical-align: top;\n",
       "    }\n",
       "\n",
       "    .dataframe thead th {\n",
       "        text-align: right;\n",
       "    }\n",
       "</style>\n",
       "<table border=\"1\" class=\"dataframe\">\n",
       "  <thead>\n",
       "    <tr style=\"text-align: right;\">\n",
       "      <th></th>\n",
       "      <th>bedrooms</th>\n",
       "      <th>bathrooms</th>\n",
       "      <th>sqm_living</th>\n",
       "      <th>floors</th>\n",
       "      <th>condition</th>\n",
       "      <th>grade</th>\n",
       "      <th>yr_built</th>\n",
       "      <th>yr_renovated</th>\n",
       "      <th>avg_degree</th>\n",
       "      <th>degree_centrality</th>\n",
       "      <th>betweenness_centrality</th>\n",
       "      <th>closeness_centrality</th>\n",
       "      <th>density</th>\n",
       "      <th>sqm_above</th>\n",
       "      <th>sqm_basement</th>\n",
       "      <th>sqm_lot</th>\n",
       "      <th>price</th>\n",
       "    </tr>\n",
       "  </thead>\n",
       "  <tbody>\n",
       "    <tr>\n",
       "      <th>16841</th>\n",
       "      <td>3</td>\n",
       "      <td>2.50</td>\n",
       "      <td>160.72219</td>\n",
       "      <td>2.0</td>\n",
       "      <td>4</td>\n",
       "      <td>7</td>\n",
       "      <td>1985</td>\n",
       "      <td>0</td>\n",
       "      <td>4.767677</td>\n",
       "      <td>0.015190</td>\n",
       "      <td>0.217477</td>\n",
       "      <td>0.098799</td>\n",
       "      <td>0.006035</td>\n",
       "      <td>160.72219</td>\n",
       "      <td>0.00000</td>\n",
       "      <td>668.901600</td>\n",
       "      <td>230000.0</td>\n",
       "    </tr>\n",
       "    <tr>\n",
       "      <th>466</th>\n",
       "      <td>4</td>\n",
       "      <td>2.75</td>\n",
       "      <td>270.34773</td>\n",
       "      <td>1.0</td>\n",
       "      <td>3</td>\n",
       "      <td>8</td>\n",
       "      <td>1975</td>\n",
       "      <td>0</td>\n",
       "      <td>5.438512</td>\n",
       "      <td>0.000600</td>\n",
       "      <td>0.000000</td>\n",
       "      <td>0.031303</td>\n",
       "      <td>0.000816</td>\n",
       "      <td>165.36734</td>\n",
       "      <td>104.98039</td>\n",
       "      <td>989.416950</td>\n",
       "      <td>542800.0</td>\n",
       "    </tr>\n",
       "    <tr>\n",
       "      <th>10113</th>\n",
       "      <td>3</td>\n",
       "      <td>2.50</td>\n",
       "      <td>146.78674</td>\n",
       "      <td>2.0</td>\n",
       "      <td>3</td>\n",
       "      <td>7</td>\n",
       "      <td>2003</td>\n",
       "      <td>0</td>\n",
       "      <td>5.505798</td>\n",
       "      <td>0.005357</td>\n",
       "      <td>0.170882</td>\n",
       "      <td>0.066245</td>\n",
       "      <td>0.002458</td>\n",
       "      <td>146.78674</td>\n",
       "      <td>0.00000</td>\n",
       "      <td>201.599510</td>\n",
       "      <td>227976.0</td>\n",
       "    </tr>\n",
       "    <tr>\n",
       "      <th>19677</th>\n",
       "      <td>2</td>\n",
       "      <td>2.25</td>\n",
       "      <td>150.50286</td>\n",
       "      <td>2.0</td>\n",
       "      <td>3</td>\n",
       "      <td>8</td>\n",
       "      <td>2004</td>\n",
       "      <td>0</td>\n",
       "      <td>6.176757</td>\n",
       "      <td>0.004178</td>\n",
       "      <td>0.002292</td>\n",
       "      <td>0.058998</td>\n",
       "      <td>0.002151</td>\n",
       "      <td>143.07062</td>\n",
       "      <td>7.43224</td>\n",
       "      <td>171.034423</td>\n",
       "      <td>363400.0</td>\n",
       "    </tr>\n",
       "    <tr>\n",
       "      <th>3971</th>\n",
       "      <td>3</td>\n",
       "      <td>1.00</td>\n",
       "      <td>85.47076</td>\n",
       "      <td>1.0</td>\n",
       "      <td>4</td>\n",
       "      <td>7</td>\n",
       "      <td>1977</td>\n",
       "      <td>0</td>\n",
       "      <td>4.688172</td>\n",
       "      <td>0.086957</td>\n",
       "      <td>0.125179</td>\n",
       "      <td>0.164875</td>\n",
       "      <td>0.025479</td>\n",
       "      <td>85.47076</td>\n",
       "      <td>0.00000</td>\n",
       "      <td>1337.803200</td>\n",
       "      <td>195500.0</td>\n",
       "    </tr>\n",
       "  </tbody>\n",
       "</table>\n",
       "</div>"
      ],
      "text/plain": [
       "       bedrooms  bathrooms  sqm_living  floors  condition  grade  yr_built  \\\n",
       "16841         3       2.50   160.72219     2.0          4      7      1985   \n",
       "466           4       2.75   270.34773     1.0          3      8      1975   \n",
       "10113         3       2.50   146.78674     2.0          3      7      2003   \n",
       "19677         2       2.25   150.50286     2.0          3      8      2004   \n",
       "3971          3       1.00    85.47076     1.0          4      7      1977   \n",
       "\n",
       "       yr_renovated  avg_degree  degree_centrality  betweenness_centrality  \\\n",
       "16841             0    4.767677           0.015190                0.217477   \n",
       "466               0    5.438512           0.000600                0.000000   \n",
       "10113             0    5.505798           0.005357                0.170882   \n",
       "19677             0    6.176757           0.004178                0.002292   \n",
       "3971              0    4.688172           0.086957                0.125179   \n",
       "\n",
       "       closeness_centrality   density  sqm_above  sqm_basement      sqm_lot  \\\n",
       "16841              0.098799  0.006035  160.72219       0.00000   668.901600   \n",
       "466                0.031303  0.000816  165.36734     104.98039   989.416950   \n",
       "10113              0.066245  0.002458  146.78674       0.00000   201.599510   \n",
       "19677              0.058998  0.002151  143.07062       7.43224   171.034423   \n",
       "3971               0.164875  0.025479   85.47076       0.00000  1337.803200   \n",
       "\n",
       "          price  \n",
       "16841  230000.0  \n",
       "466    542800.0  \n",
       "10113  227976.0  \n",
       "19677  363400.0  \n",
       "3971   195500.0  "
      ]
     },
     "execution_count": 15,
     "metadata": {},
     "output_type": "execute_result"
    }
   ],
   "source": [
    "df.head()"
   ]
  },
  {
   "cell_type": "code",
   "execution_count": 16,
   "metadata": {},
   "outputs": [
    {
     "name": "stdout",
     "output_type": "stream",
     "text": [
      "<class 'pandas.core.frame.DataFrame'>\n",
      "Index: 19013 entries, 16841 to 15795\n",
      "Data columns (total 17 columns):\n",
      " #   Column                  Non-Null Count  Dtype  \n",
      "---  ------                  --------------  -----  \n",
      " 0   bedrooms                19013 non-null  int64  \n",
      " 1   bathrooms               19013 non-null  float64\n",
      " 2   sqm_living              19013 non-null  float64\n",
      " 3   floors                  19013 non-null  float64\n",
      " 4   condition               19013 non-null  int64  \n",
      " 5   grade                   19013 non-null  int64  \n",
      " 6   yr_built                19013 non-null  int64  \n",
      " 7   yr_renovated            19013 non-null  int64  \n",
      " 8   avg_degree              19013 non-null  float64\n",
      " 9   degree_centrality       19013 non-null  float64\n",
      " 10  betweenness_centrality  19013 non-null  float64\n",
      " 11  closeness_centrality    19013 non-null  float64\n",
      " 12  density                 19013 non-null  float64\n",
      " 13  sqm_above               19013 non-null  float64\n",
      " 14  sqm_basement            19013 non-null  float64\n",
      " 15  sqm_lot                 19013 non-null  float64\n",
      " 16  price                   19013 non-null  float64\n",
      "dtypes: float64(12), int64(5)\n",
      "memory usage: 2.6 MB\n"
     ]
    }
   ],
   "source": [
    "# Summary of data\n",
    "df.info()"
   ]
  },
  {
   "cell_type": "code",
   "execution_count": 17,
   "metadata": {},
   "outputs": [
    {
     "data": {
      "text/plain": [
       "sqm_basement\n",
       "0.000000      11491\n",
       "65.032100       205\n",
       "46.451500       195\n",
       "55.741800       190\n",
       "74.322400       187\n",
       "              ...  \n",
       "51.654068         1\n",
       "47.008918         1\n",
       "182.089880        1\n",
       "231.328470        1\n",
       "105.444905        1\n",
       "Name: count, Length: 287, dtype: int64"
      ]
     },
     "execution_count": 17,
     "metadata": {},
     "output_type": "execute_result"
    }
   ],
   "source": [
    "# Investigate sqft_basement column\n",
    "df['sqm_basement'].value_counts()"
   ]
  },
  {
   "cell_type": "code",
   "execution_count": 19,
   "metadata": {},
   "outputs": [
    {
     "data": {
      "text/plain": [
       "count    19013.000000\n",
       "mean        27.043334\n",
       "std         40.783874\n",
       "min          0.000000\n",
       "25%          0.000000\n",
       "50%          0.000000\n",
       "75%         52.025680\n",
       "max        447.792460\n",
       "Name: sqm_basement, dtype: float64"
      ]
     },
     "execution_count": 19,
     "metadata": {},
     "output_type": "execute_result"
    }
   ],
   "source": [
    "# Get summary statistics for sqft_basement\n",
    "df['sqm_basement'].describe()"
   ]
  },
  {
   "cell_type": "code",
   "execution_count": 20,
   "metadata": {},
   "outputs": [
    {
     "data": {
      "text/plain": [
       "bedrooms                  0\n",
       "bathrooms                 0\n",
       "sqm_living                0\n",
       "floors                    0\n",
       "condition                 0\n",
       "grade                     0\n",
       "yr_built                  0\n",
       "yr_renovated              0\n",
       "avg_degree                0\n",
       "degree_centrality         0\n",
       "betweenness_centrality    0\n",
       "closeness_centrality      0\n",
       "density                   0\n",
       "sqm_above                 0\n",
       "sqm_basement              0\n",
       "sqm_lot                   0\n",
       "price                     0\n",
       "dtype: int64"
      ]
     },
     "execution_count": 20,
     "metadata": {},
     "output_type": "execute_result"
    }
   ],
   "source": [
    "df.isna().sum()"
   ]
  },
  {
   "cell_type": "code",
   "execution_count": 22,
   "metadata": {},
   "outputs": [],
   "source": [
    "df.drop_duplicates(inplace=True)"
   ]
  },
  {
   "cell_type": "code",
   "execution_count": 24,
   "metadata": {},
   "outputs": [
    {
     "name": "stdout",
     "output_type": "stream",
     "text": [
      "0\n",
      "Numărul de rânduri după eliminarea duplicatelor: 18710\n"
     ]
    }
   ],
   "source": [
    "# Cheking for duplicated rows\n",
    "duplicates = df[df.duplicated()]\n",
    "print(len(duplicates))\n",
    "print(\"Numărul de rânduri după eliminarea duplicatelor:\", len(df))"
   ]
  },
  {
   "cell_type": "code",
   "execution_count": 25,
   "metadata": {},
   "outputs": [
    {
     "data": {
      "text/plain": [
       "count    18710.000000\n",
       "mean      1970.605131\n",
       "std         29.547476\n",
       "min       1900.000000\n",
       "25%       1951.000000\n",
       "50%       1974.000000\n",
       "75%       1997.000000\n",
       "max       2015.000000\n",
       "Name: yr_built, dtype: float64"
      ]
     },
     "execution_count": 25,
     "metadata": {},
     "output_type": "execute_result"
    }
   ],
   "source": [
    "# Get summary statistics for yr_built\n",
    "df['yr_built'].describe()"
   ]
  },
  {
   "cell_type": "code",
   "execution_count": 26,
   "metadata": {},
   "outputs": [
    {
     "data": {
      "image/png": "[encoded data removed]",
      "text/plain": [
       "<Figure size 800x550 with 1 Axes>"
      ]
     },
     "metadata": {},
     "output_type": "display_data"
    }
   ],
   "source": [
    "# Visualise yr_built distribution\n",
    "df['yr_built'].hist()\n",
    "plt.xlabel('Year')\n",
    "plt.ylabel('Frequency')\n",
    "plt.title('Distribution of year built feature')\n",
    "plt.show()"
   ]
  },
  {
   "cell_type": "code",
   "execution_count": 27,
   "metadata": {},
   "outputs": [],
   "source": [
    "# Define function to map yr_built into bins\n",
    "def year_built(df):\n",
    "    ''' Maps yr_built feature into categorical bins'''\n",
    "\n",
    "    # Define bins based on statistics\n",
    "    yr_built_bins = [1899, 1950, 1975, 1997, 2016]\n",
    "    yr_built_labels = ['pre1950', '1950_to_1975',\n",
    "                       '1975_to_1997', '1997_to_2015']\n",
    "\n",
    "    # Map to bins using pd.cut()\n",
    "    df['yr_built'] = pd.cut(\n",
    "        df['yr_built'], bins=yr_built_bins, labels=yr_built_labels)\n",
    "\n",
    "    return df"
   ]
  },
  {
   "cell_type": "code",
   "execution_count": 28,
   "metadata": {},
   "outputs": [],
   "source": [
    "# Apply function to df\n",
    "df = year_built(df)"
   ]
  },
  {
   "cell_type": "code",
   "execution_count": 31,
   "metadata": {},
   "outputs": [],
   "source": [
    "# Define function has_basement\n",
    "def has_basement(df):\n",
    "    '''creates bool feature has_basement and drops original basement feature'''\n",
    "    df['has_basement'] = df['sqm_basement'].map(lambda x: 1 if x > 0 else 0)\n",
    "    df = df.drop('sqm_basement', axis=1)\n",
    "    return df"
   ]
  },
  {
   "cell_type": "code",
   "execution_count": 32,
   "metadata": {},
   "outputs": [],
   "source": [
    "# Apply function to df\n",
    "df = has_basement(df)"
   ]
  },
  {
   "cell_type": "code",
   "execution_count": 33,
   "metadata": {},
   "outputs": [
    {
     "data": {
      "text/plain": [
       "count    18710.000000\n",
       "mean         2.107028\n",
       "std          0.768084\n",
       "min          0.000000\n",
       "25%          1.500000\n",
       "50%          2.250000\n",
       "75%          2.500000\n",
       "max          8.000000\n",
       "Name: bathrooms, dtype: float64"
      ]
     },
     "execution_count": 33,
     "metadata": {},
     "output_type": "execute_result"
    }
   ],
   "source": [
    "# Get summary statistics for bathroom variable\n",
    "df['bathrooms'].describe()"
   ]
  },
  {
   "cell_type": "code",
   "execution_count": 34,
   "metadata": {},
   "outputs": [
    {
     "data": {
      "text/plain": [
       "array([2.5 , 2.75, 2.25, 1.  , 3.5 , 1.75, 2.  , 1.5 , 3.  , 4.  , 3.25,\n",
       "       4.25, 3.75, 4.5 , 1.25, 6.75, 0.5 , 5.75, 0.75, 6.5 , 4.75, 0.  ,\n",
       "       5.  , 5.5 , 5.25, 6.25, 6.  , 8.  , 7.5 , 7.75])"
      ]
     },
     "execution_count": 34,
     "metadata": {},
     "output_type": "execute_result"
    }
   ],
   "source": [
    "# Get unique values\n",
    "df['bathrooms'].unique()"
   ]
  },
  {
   "cell_type": "code",
   "execution_count": 35,
   "metadata": {},
   "outputs": [],
   "source": [
    "def round_bathrooms(df):\n",
    "    '''Round bathroom feature and convert to int'''\n",
    "    df['bathrooms'] = df['bathrooms'].map(lambda x: int(round(x, 0)))\n",
    "    return df"
   ]
  },
  {
   "cell_type": "code",
   "execution_count": 36,
   "metadata": {},
   "outputs": [],
   "source": [
    "# Apply function to df\n",
    "df = round_bathrooms(df)"
   ]
  },
  {
   "cell_type": "code",
   "execution_count": 37,
   "metadata": {},
   "outputs": [
    {
     "data": {
      "text/html": [
       "<div>\n",
       "<style scoped>\n",
       "    .dataframe tbody tr th:only-of-type {\n",
       "        vertical-align: middle;\n",
       "    }\n",
       "\n",
       "    .dataframe tbody tr th {\n",
       "        vertical-align: top;\n",
       "    }\n",
       "\n",
       "    .dataframe thead th {\n",
       "        text-align: right;\n",
       "    }\n",
       "</style>\n",
       "<table border=\"1\" class=\"dataframe\">\n",
       "  <thead>\n",
       "    <tr style=\"text-align: right;\">\n",
       "      <th></th>\n",
       "      <th>bedrooms</th>\n",
       "      <th>bathrooms</th>\n",
       "      <th>sqm_living</th>\n",
       "      <th>floors</th>\n",
       "      <th>condition</th>\n",
       "      <th>grade</th>\n",
       "      <th>yr_built</th>\n",
       "      <th>yr_renovated</th>\n",
       "      <th>avg_degree</th>\n",
       "      <th>degree_centrality</th>\n",
       "      <th>betweenness_centrality</th>\n",
       "      <th>closeness_centrality</th>\n",
       "      <th>density</th>\n",
       "      <th>sqm_above</th>\n",
       "      <th>sqm_lot</th>\n",
       "      <th>price</th>\n",
       "      <th>has_basement</th>\n",
       "    </tr>\n",
       "  </thead>\n",
       "  <tbody>\n",
       "    <tr>\n",
       "      <th>16841</th>\n",
       "      <td>3</td>\n",
       "      <td>2</td>\n",
       "      <td>160.72219</td>\n",
       "      <td>2.0</td>\n",
       "      <td>4</td>\n",
       "      <td>7</td>\n",
       "      <td>1975_to_1997</td>\n",
       "      <td>0</td>\n",
       "      <td>4.767677</td>\n",
       "      <td>0.015190</td>\n",
       "      <td>0.217477</td>\n",
       "      <td>0.098799</td>\n",
       "      <td>0.006035</td>\n",
       "      <td>160.72219</td>\n",
       "      <td>668.901600</td>\n",
       "      <td>230000.0</td>\n",
       "      <td>0</td>\n",
       "    </tr>\n",
       "    <tr>\n",
       "      <th>466</th>\n",
       "      <td>4</td>\n",
       "      <td>3</td>\n",
       "      <td>270.34773</td>\n",
       "      <td>1.0</td>\n",
       "      <td>3</td>\n",
       "      <td>8</td>\n",
       "      <td>1950_to_1975</td>\n",
       "      <td>0</td>\n",
       "      <td>5.438512</td>\n",
       "      <td>0.000600</td>\n",
       "      <td>0.000000</td>\n",
       "      <td>0.031303</td>\n",
       "      <td>0.000816</td>\n",
       "      <td>165.36734</td>\n",
       "      <td>989.416950</td>\n",
       "      <td>542800.0</td>\n",
       "      <td>1</td>\n",
       "    </tr>\n",
       "    <tr>\n",
       "      <th>10113</th>\n",
       "      <td>3</td>\n",
       "      <td>2</td>\n",
       "      <td>146.78674</td>\n",
       "      <td>2.0</td>\n",
       "      <td>3</td>\n",
       "      <td>7</td>\n",
       "      <td>1997_to_2015</td>\n",
       "      <td>0</td>\n",
       "      <td>5.505798</td>\n",
       "      <td>0.005357</td>\n",
       "      <td>0.170882</td>\n",
       "      <td>0.066245</td>\n",
       "      <td>0.002458</td>\n",
       "      <td>146.78674</td>\n",
       "      <td>201.599510</td>\n",
       "      <td>227976.0</td>\n",
       "      <td>0</td>\n",
       "    </tr>\n",
       "    <tr>\n",
       "      <th>19677</th>\n",
       "      <td>2</td>\n",
       "      <td>2</td>\n",
       "      <td>150.50286</td>\n",
       "      <td>2.0</td>\n",
       "      <td>3</td>\n",
       "      <td>8</td>\n",
       "      <td>1997_to_2015</td>\n",
       "      <td>0</td>\n",
       "      <td>6.176757</td>\n",
       "      <td>0.004178</td>\n",
       "      <td>0.002292</td>\n",
       "      <td>0.058998</td>\n",
       "      <td>0.002151</td>\n",
       "      <td>143.07062</td>\n",
       "      <td>171.034423</td>\n",
       "      <td>363400.0</td>\n",
       "      <td>1</td>\n",
       "    </tr>\n",
       "    <tr>\n",
       "      <th>3971</th>\n",
       "      <td>3</td>\n",
       "      <td>1</td>\n",
       "      <td>85.47076</td>\n",
       "      <td>1.0</td>\n",
       "      <td>4</td>\n",
       "      <td>7</td>\n",
       "      <td>1975_to_1997</td>\n",
       "      <td>0</td>\n",
       "      <td>4.688172</td>\n",
       "      <td>0.086957</td>\n",
       "      <td>0.125179</td>\n",
       "      <td>0.164875</td>\n",
       "      <td>0.025479</td>\n",
       "      <td>85.47076</td>\n",
       "      <td>1337.803200</td>\n",
       "      <td>195500.0</td>\n",
       "      <td>0</td>\n",
       "    </tr>\n",
       "  </tbody>\n",
       "</table>\n",
       "</div>"
      ],
      "text/plain": [
       "       bedrooms  bathrooms  sqm_living  floors  condition  grade  \\\n",
       "16841         3          2   160.72219     2.0          4      7   \n",
       "466           4          3   270.34773     1.0          3      8   \n",
       "10113         3          2   146.78674     2.0          3      7   \n",
       "19677         2          2   150.50286     2.0          3      8   \n",
       "3971          3          1    85.47076     1.0          4      7   \n",
       "\n",
       "           yr_built  yr_renovated  avg_degree  degree_centrality  \\\n",
       "16841  1975_to_1997             0    4.767677           0.015190   \n",
       "466    1950_to_1975             0    5.438512           0.000600   \n",
       "10113  1997_to_2015             0    5.505798           0.005357   \n",
       "19677  1997_to_2015             0    6.176757           0.004178   \n",
       "3971   1975_to_1997             0    4.688172           0.086957   \n",
       "\n",
       "       betweenness_centrality  closeness_centrality   density  sqm_above  \\\n",
       "16841                0.217477              0.098799  0.006035  160.72219   \n",
       "466                  0.000000              0.031303  0.000816  165.36734   \n",
       "10113                0.170882              0.066245  0.002458  146.78674   \n",
       "19677                0.002292              0.058998  0.002151  143.07062   \n",
       "3971                 0.125179              0.164875  0.025479   85.47076   \n",
       "\n",
       "           sqm_lot     price  has_basement  \n",
       "16841   668.901600  230000.0             0  \n",
       "466     989.416950  542800.0             1  \n",
       "10113   201.599510  227976.0             0  \n",
       "19677   171.034423  363400.0             1  \n",
       "3971   1337.803200  195500.0             0  "
      ]
     },
     "execution_count": 37,
     "metadata": {},
     "output_type": "execute_result"
    }
   ],
   "source": [
    "# Preview all changes\n",
    "df.head()"
   ]
  },
  {
   "cell_type": "code",
   "execution_count": 38,
   "metadata": {},
   "outputs": [
    {
     "data": {
      "image/png": "[encoded data removed]",
      "text/plain": [
       "<Figure size 1500x1200 with 16 Axes>"
      ]
     },
     "metadata": {},
     "output_type": "display_data"
    }
   ],
   "source": [
    "df.hist(figsize=(15, 12))\n",
    "plt.show()"
   ]
  },
  {
   "cell_type": "code",
   "execution_count": 39,
   "metadata": {},
   "outputs": [
    {
     "data": {
      "text/plain": [
       "18710"
      ]
     },
     "execution_count": 39,
     "metadata": {},
     "output_type": "execute_result"
    }
   ],
   "source": [
    "# Check initial size of df to see how much data we lost\n",
    "originalsize = len(df)\n",
    "originalsize"
   ]
  },
  {
   "cell_type": "code",
   "execution_count": 48,
   "metadata": {},
   "outputs": [],
   "source": [
    "# Define function to remove outliers\n",
    "def remove_outliers(df):\n",
    "    '''removes entries with z-score above 3 for specific columns'''\n",
    "    variables = ['bedrooms', 'bathrooms', 'sqm_living', 'sqm_lot', 'sqm_above']\n",
    "\n",
    "    for variable in variables:\n",
    "        df = df[np.abs(df[variable]-df[variable].mean())\n",
    "                <= (3*df[variable].std())]\n",
    "\n",
    "    return df"
   ]
  },
  {
   "cell_type": "code",
   "execution_count": 49,
   "metadata": {},
   "outputs": [],
   "source": [
    "# Apply function to df\n",
    "df = remove_outliers(df)"
   ]
  },
  {
   "cell_type": "code",
   "execution_count": 50,
   "metadata": {},
   "outputs": [
    {
     "data": {
      "text/plain": [
       "17994"
      ]
     },
     "execution_count": 50,
     "metadata": {},
     "output_type": "execute_result"
    }
   ],
   "source": [
    "# See size of df now\n",
    "newsize = len(df)\n",
    "newsize"
   ]
  },
  {
   "cell_type": "code",
   "execution_count": 51,
   "metadata": {},
   "outputs": [
    {
     "data": {
      "text/plain": [
       "3.83"
      ]
     },
     "execution_count": 51,
     "metadata": {},
     "output_type": "execute_result"
    }
   ],
   "source": [
    "# Get % of data removed\n",
    "round((originalsize-newsize)/originalsize*100, 2)"
   ]
  },
  {
   "cell_type": "markdown",
   "metadata": {},
   "source": [
    "--- \n",
    "s-a dat un skip nebun\n",
    "https://nbviewer.org/github/nadinezab/kc-house-prices-prediction/blob/master/kc-house-prices.ipynb#Simple-linear-regression:~:text=in%20section%209.-,Simple,-linear%20regression"
   ]
  },
  {
   "cell_type": "code",
   "execution_count": null,
   "metadata": {},
   "outputs": [],
   "source": []
  }
 ],
 "metadata": {
  "kernelspec": {
   "display_name": "IC_Project",
   "language": "python",
   "name": "python3"
  },
  "language_info": {
   "codemirror_mode": {
    "name": "ipython",
    "version": 3
   },
   "file_extension": ".py",
   "mimetype": "text/x-python",
   "name": "python",
   "nbconvert_exporter": "python",
   "pygments_lexer": "ipython3",
   "version": "3.9.18"
  }
 },
 "nbformat": 4,
 "nbformat_minor": 2
}
