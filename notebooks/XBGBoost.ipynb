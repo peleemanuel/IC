{
 "cells": [
  {
   "cell_type": "code",
   "execution_count": 8,
   "metadata": {},
   "outputs": [],
   "source": [
    "import pandas as pd\n",
    "import xgboost as xgb\n",
    "from sklearn.model_selection import train_test_split\n",
    "from sklearn.metrics import mean_squared_error, r2_score\n",
    "from sklearn.model_selection import RandomizedSearchCV\n",
    "\n",
    "# Example DataFrame loading (replace with your actual data source)\n",
    "data = pd.read_csv('../data/final_dataset_1.csv')\n",
    "\n",
    "# Drop price over 1.3M\n",
    "data = data[data['price'] <= 1300000]\n",
    "\n",
    "# Convert to DataFrame\n",
    "df = pd.DataFrame(data)\n",
    "\n",
    "# Separate features and target\n",
    "X = df.drop('price', axis=1)\n",
    "y = df['price']\n",
    "\n",
    "# Split the data into training and testing sets\n",
    "# Assume X and y are your features and target variable respectively\n",
    "X_train, X_temp, y_train, y_temp = train_test_split(X, y, test_size=0.3, random_state=2)\n",
    "X_val, X_test, y_val, y_test = train_test_split(X_temp, y_temp, test_size=0.5, random_state=2)"
   ]
  },
  {
   "cell_type": "code",
   "execution_count": 9,
   "metadata": {},
   "outputs": [
    {
     "name": "stdout",
     "output_type": "stream",
     "text": [
      "Best parameters: {'subsample': 0.9444444444444444, 'n_estimators': 700, 'max_depth': 7, 'learning_rate': 0.03375, 'colsample_bytree': 0.5}\n",
      "Best score: 0.6991265662614875\n",
      "Mean Squared Error: 14535121284.08566\n",
      "R² Score: 0.704100093878931\n"
     ]
    }
   ],
   "source": [
    "import numpy as np\n",
    "params = {\n",
    "    'max_depth': range(3, 10),\n",
    "    'learning_rate': np.linspace(0.01, 0.2, 25),\n",
    "    'n_estimators': [100, 200, 300, 400, 500, 600, 700, 800, 900, 1000],\n",
    "    'subsample': np.linspace(0.5, 1, 10),\n",
    "    'colsample_bytree': np.linspace(0.5, 1, 10)\n",
    "}\n",
    "model = xgb.XGBRegressor()\n",
    "# Configurarea RandomizedSearchCV\n",
    "search = RandomizedSearchCV(model, params, n_iter=1500, cv=8, scoring='r2', random_state=42)\n",
    "\n",
    "# Antrenarea și căutarea celor mai buni hiperparametri\n",
    "search.fit(X_train, y_train)\n",
    "\n",
    "# Afișarea celor mai buni parametri și a scorului\n",
    "print(\"Best parameters:\", search.best_params_)\n",
    "print(\"Best score:\", search.best_score_)\n",
    "\n",
    "# Predictions\n",
    "y_pred = search.predict(X_test)\n",
    "# Evaluate the model\n",
    "mse = mean_squared_error(y_test, y_pred)\n",
    "r2 = r2_score(y_test, y_pred)\n",
    "\n",
    "print(\"Mean Squared Error:\", mse)\n",
    "print(\"R² Score:\", r2)"
   ]
  },
  {
   "cell_type": "code",
   "execution_count": null,
   "metadata": {},
   "outputs": [],
   "source": []
  }
 ],
 "metadata": {
  "kernelspec": {
   "display_name": "web_project",
   "language": "python",
   "name": "python3"
  },
  "language_info": {
   "codemirror_mode": {
    "name": "ipython",
    "version": 3
   },
   "file_extension": ".py",
   "mimetype": "text/x-python",
   "name": "python",
   "nbconvert_exporter": "python",
   "pygments_lexer": "ipython3",
   "version": "3.10.14"
  }
 },
 "nbformat": 4,
 "nbformat_minor": 2
}
