{
 "cells": [
  {
   "cell_type": "code",
   "execution_count": 2,
   "metadata": {},
   "outputs": [],
   "source": [
    "from tpot import TPOTRegressor\n",
    "from sklearn.model_selection import train_test_split"
   ]
  },
  {
   "cell_type": "code",
   "execution_count": 8,
   "metadata": {},
   "outputs": [],
   "source": [
    "import pandas as pd\n",
    "\n",
    "data = pd.read_csv('../data/final_dataset_1.csv')\n",
    "\n",
    "# Drop prices over 1 million\n",
    "data = data[data['price'] < 1000000]\n",
    "\n",
    "X = data.drop('price', axis=1)\n",
    "y = data['price']\n",
    "\n",
    "X_train, X_test, y_train, y_test = train_test_split(X, y, test_size=0.2, random_state=2)"
   ]
  },
  {
   "cell_type": "code",
   "execution_count": 6,
   "metadata": {},
   "outputs": [
    {
     "name": "stdout",
     "output_type": "stream",
     "text": [
      "                                                                            \n",
      "Generation 1 - Current best internal CV score: 0.7147309844503786\n",
      "                                                                            \n",
      "Generation 2 - Current best internal CV score: 0.7147309844503786\n",
      "                                                                              \n",
      "Generation 3 - Current best internal CV score: 0.7157862656795102\n",
      "                                                                              \n",
      "Generation 4 - Current best internal CV score: 0.7164509079175521\n",
      "                                                                              \n",
      "20.02 minutes have elapsed. TPOT will close down.                             \n",
      "TPOT closed during evaluation in one generation.\n",
      "WARNING: TPOT may not provide a good pipeline if TPOT is stopped/interrupted in a early generation.\n",
      "                                                                              \n",
      "                                                                              \n",
      "TPOT closed prematurely. Will use the current best pipeline.\n",
      "                                                                              \n",
      "Best pipeline: ExtraTreesRegressor(input_matrix, bootstrap=True, max_features=0.9500000000000001, min_samples_leaf=1, min_samples_split=3, n_estimators=100)\n",
      "Score:  0.7688193035217294\n"
     ]
    }
   ],
   "source": [
    "tpot = TPOTRegressor(\n",
    "    generations=25,              # Numărul de generații\n",
    "    population_size=30,          # Dimensiunea populației de pipeline-uri\n",
    "    verbosity=2,                 # Nivelul de verbositate\n",
    "    random_state=42,             # Seed pentru reproducibilitate\n",
    "    max_time_mins=35,            # Limita de timp în minute\n",
    "    max_eval_time_mins=2,        # Timp maxim pentru evaluarea unui pipeline\n",
    "    scoring='r2',  # Metrica de evaluare\n",
    "    cv=5                         # Cross-validation cu 5 fold-uri\n",
    ")\n",
    "tpot.fit(X_train, y_train)\n",
    "print(\"Score: \", tpot.score(X_test, y_test))"
   ]
  }
 ],
 "metadata": {
  "kernelspec": {
   "display_name": "web_project",
   "language": "python",
   "name": "python3"
  },
  "language_info": {
   "codemirror_mode": {
    "name": "ipython",
    "version": 3
   },
   "file_extension": ".py",
   "mimetype": "text/x-python",
   "name": "python",
   "nbconvert_exporter": "python",
   "pygments_lexer": "ipython3",
   "version": "3.10.14"
  }
 },
 "nbformat": 4,
 "nbformat_minor": 2
}
