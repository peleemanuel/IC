{
 "cells": [
  {
   "cell_type": "code",
   "execution_count": 2,
   "metadata": {},
   "outputs": [],
   "source": [
    "from tpot import TPOTRegressor\n",
    "from sklearn.model_selection import train_test_split"
   ]
  },
  {
   "cell_type": "code",
   "execution_count": 18,
   "metadata": {},
   "outputs": [
    {
     "name": "stdout",
     "output_type": "stream",
     "text": [
      "<class 'pandas.core.frame.DataFrame'>\n",
      "Index: 20538 entries, 0 to 21125\n",
      "Data columns (total 17 columns):\n",
      " #   Column                  Non-Null Count  Dtype  \n",
      "---  ------                  --------------  -----  \n",
      " 0   price                   20538 non-null  float64\n",
      " 1   bedrooms                20538 non-null  int64  \n",
      " 2   bathrooms               20538 non-null  float64\n",
      " 3   sqm_living              20538 non-null  float64\n",
      " 4   floors                  20538 non-null  float64\n",
      " 5   condition               20538 non-null  int64  \n",
      " 6   grade                   20538 non-null  int64  \n",
      " 7   yr_built                20538 non-null  int64  \n",
      " 8   yr_renovated            20538 non-null  int64  \n",
      " 9   avg_degree              20538 non-null  float64\n",
      " 10  degree_centrality       20538 non-null  float64\n",
      " 11  betweenness_centrality  20538 non-null  float64\n",
      " 12  closeness_centrality    20538 non-null  float64\n",
      " 13  density                 20538 non-null  float64\n",
      " 14  sqm_above               20538 non-null  float64\n",
      " 15  sqm_basement            20538 non-null  float64\n",
      " 16  sqm_lot                 20538 non-null  float64\n",
      "dtypes: float64(12), int64(5)\n",
      "memory usage: 2.8 MB\n",
      "None\n"
     ]
    }
   ],
   "source": [
    "import pandas as pd\n",
    "\n",
    "data = pd.read_csv('../data/final_dataset_1.csv')\n",
    "\n",
    "# Drop prices over 1 million\n",
    "data = data[data['price'] < 1300000]\n",
    "\n",
    "X = data.drop('price', axis=1)\n",
    "y = data['price']\n",
    "\n",
    "X_train, X_test, y_train, y_test = train_test_split(X, y, test_size=0.2, random_state=2)\n",
    "\n",
    "#print data information\n",
    "print(data.info())"
   ]
  },
  {
   "cell_type": "code",
   "execution_count": 19,
   "metadata": {},
   "outputs": [
    {
     "name": "stdout",
     "output_type": "stream",
     "text": [
      "                                                                                 \n",
      "Generation 1 - Current best internal CV score: 0.6943546664137614\n",
      "                                                                                 \n",
      "Generation 2 - Current best internal CV score: 0.6958966899516751\n",
      "                                                                                 \n",
      "Generation 3 - Current best internal CV score: 0.6978260855120549\n",
      "                                                                                 \n",
      "Generation 4 - Current best internal CV score: 0.6978260855120549\n",
      "                                                                                   \n",
      "Generation 5 - Current best internal CV score: 0.6984677990747942\n",
      "                                                                                   \n",
      "Generation 6 - Current best internal CV score: 0.6984677990747942\n",
      "                                                                                   \n",
      "Generation 7 - Current best internal CV score: 0.6987544938655018\n",
      "                                                                                   \n",
      "Generation 8 - Current best internal CV score: 0.6987544938655018\n",
      "                                                                                    \n",
      "Generation 9 - Current best internal CV score: 0.6987544938655018\n",
      "Optimization Progress: 100%|█████████▉| 1097/1100 [4:39:45<01:13, 24.45s/pipeline]  "
     ]
    }
   ],
   "source": [
    "tpot = TPOTRegressor(\n",
    "    generations=10,              # Numărul de generații\n",
    "    population_size=100,          # Dimensiunea populației de pipeline-uri\n",
    "    verbosity=2,                 # Nivelul de verbositate\n",
    "    random_state=2,             # Seed pentru reproducibilitate\n",
    "    #max_time_mins=45,            # Limita de timp în minute\n",
    "    max_eval_time_mins=8,        # Timp maxim pentru evaluarea unui pipeline\n",
    "    scoring='r2',  # Metrica de evaluare\n",
    "    cv=7                         # Cross-validation cu 5 fold-uri\n",
    ")\n",
    "tpot.fit(X_train, y_train)\n",
    "print(\"Score: \", tpot.score(X_test, y_test))"
   ]
  }
 ],
 "metadata": {
  "kernelspec": {
   "display_name": "web_project",
   "language": "python",
   "name": "python3"
  },
  "language_info": {
   "codemirror_mode": {
    "name": "ipython",
    "version": 3
   },
   "file_extension": ".py",
   "mimetype": "text/x-python",
   "name": "python",
   "nbconvert_exporter": "python",
   "pygments_lexer": "ipython3",
   "version": "3.10.14"
  }
 },
 "nbformat": 4,
 "nbformat_minor": 2
}
